{
 "cells": [
  {
   "cell_type": "markdown",
   "id": "326186d5",
   "metadata": {},
   "source": [
    "# HW3 - Q3\n",
    "# Gaussian Naïve Bayes Classifier - Wisconsin Breast Cancer Data"
   ]
  },
  {
   "cell_type": "code",
   "execution_count": 1,
   "id": "9f3fe6f6",
   "metadata": {},
   "outputs": [],
   "source": [
    "import warnings\n",
    "warnings.filterwarnings('ignore')"
   ]
  },
  {
   "cell_type": "markdown",
   "id": "6770e6e3",
   "metadata": {},
   "source": [
    "## Preparations"
   ]
  },
  {
   "cell_type": "markdown",
   "id": "6d68d86a",
   "metadata": {},
   "source": [
    "Load data"
   ]
  },
  {
   "cell_type": "code",
   "execution_count": 2,
   "id": "541da6a7",
   "metadata": {},
   "outputs": [],
   "source": [
    "from sklearn import datasets"
   ]
  },
  {
   "cell_type": "code",
   "execution_count": 3,
   "id": "3cdef52a",
   "metadata": {},
   "outputs": [],
   "source": [
    "dataset = datasets.load_breast_cancer()"
   ]
  },
  {
   "cell_type": "markdown",
   "id": "0b567601",
   "metadata": {},
   "source": [
    "Extract feature and labels"
   ]
  },
  {
   "cell_type": "code",
   "execution_count": 4,
   "id": "504e442f",
   "metadata": {},
   "outputs": [],
   "source": [
    "X = dataset.data"
   ]
  },
  {
   "cell_type": "markdown",
   "id": "f69736f4",
   "metadata": {},
   "source": [
    "The class label in classification is referred to as the `target`"
   ]
  },
  {
   "cell_type": "code",
   "execution_count": 5,
   "id": "0708c752",
   "metadata": {},
   "outputs": [],
   "source": [
    "y = dataset.target   "
   ]
  },
  {
   "cell_type": "markdown",
   "id": "f5d82f5d",
   "metadata": {},
   "source": [
    "The traget in the `dataset` above is stored as a numeric value. We'll also retrieve the class names and use it later for visualization"
   ]
  },
  {
   "cell_type": "code",
   "execution_count": 6,
   "id": "29af6c44",
   "metadata": {},
   "outputs": [],
   "source": [
    "class_names = dataset.target_names"
   ]
  },
  {
   "cell_type": "markdown",
   "id": "81a18290",
   "metadata": {},
   "source": [
    "Split data into train (60%) and test (40%) datasets"
   ]
  },
  {
   "cell_type": "code",
   "execution_count": 7,
   "id": "59519e42",
   "metadata": {},
   "outputs": [],
   "source": [
    "from sklearn.model_selection import train_test_split"
   ]
  },
  {
   "cell_type": "code",
   "execution_count": 8,
   "id": "80c0cc83",
   "metadata": {},
   "outputs": [],
   "source": [
    "X_train, X_test, y_train, y_test = train_test_split(X, y, test_size=0.6, random_state = 0)"
   ]
  },
  {
   "cell_type": "markdown",
   "id": "d48c69aa",
   "metadata": {},
   "source": [
    "## Train and evaluate a Gaussian Naïve Bayes Classifier"
   ]
  },
  {
   "cell_type": "code",
   "execution_count": 9,
   "id": "ba91e40d",
   "metadata": {},
   "outputs": [],
   "source": [
    "from sklearn.naive_bayes import GaussianNB"
   ]
  },
  {
   "cell_type": "markdown",
   "id": "ca9e269b",
   "metadata": {},
   "source": [
    "Create an `GaussianNB()` object and fit it to the data"
   ]
  },
  {
   "cell_type": "code",
   "execution_count": 10,
   "id": "7e372bbf",
   "metadata": {},
   "outputs": [],
   "source": [
    "clf = GaussianNB()"
   ]
  },
  {
   "cell_type": "code",
   "execution_count": 11,
   "id": "cb4f8b6c",
   "metadata": {},
   "outputs": [],
   "source": [
    "clf.fit(X_train, y_train);"
   ]
  },
  {
   "cell_type": "markdown",
   "id": "844d3511",
   "metadata": {},
   "source": [
    "Evaluate the trained classifier performance on the training data"
   ]
  },
  {
   "cell_type": "markdown",
   "id": "fe57ca22",
   "metadata": {},
   "source": [
    "Compute what labels the trained classifier predicts for the examples in the training data"
   ]
  },
  {
   "cell_type": "code",
   "execution_count": 12,
   "id": "8d740028",
   "metadata": {},
   "outputs": [],
   "source": [
    "y_hat_train = clf.predict(X_train)"
   ]
  },
  {
   "cell_type": "code",
   "execution_count": 13,
   "id": "1d65fff3",
   "metadata": {},
   "outputs": [],
   "source": [
    "from sklearn import metrics"
   ]
  },
  {
   "cell_type": "markdown",
   "id": "c84bea05",
   "metadata": {},
   "source": [
    "Compute the confusion matrix"
   ]
  },
  {
   "cell_type": "code",
   "execution_count": 14,
   "id": "13988d46",
   "metadata": {},
   "outputs": [
    {
     "name": "stdout",
     "output_type": "stream",
     "text": [
      "[[ 80   9]\n",
      " [  1 137]]\n"
     ]
    }
   ],
   "source": [
    "cm_train = metrics.confusion_matrix(y_train, y_hat_train)\n",
    "print(cm_train)"
   ]
  },
  {
   "cell_type": "code",
   "execution_count": 15,
   "id": "9ead1bd4",
   "metadata": {},
   "outputs": [
    {
     "data": {
      "image/png": "[encoded data removed]",
      "text/plain": [
       "<Figure size 432x288 with 2 Axes>"
      ]
     },
     "metadata": {
      "needs_background": "light"
     },
     "output_type": "display_data"
    }
   ],
   "source": [
    "metrics.ConfusionMatrixDisplay(cm_train,display_labels=class_names).plot();"
   ]
  },
  {
   "cell_type": "markdown",
   "id": "5d418d9b",
   "metadata": {},
   "source": [
    "Evaluate the trained classifier performance on the test data"
   ]
  },
  {
   "cell_type": "code",
   "execution_count": 16,
   "id": "c6febd2f",
   "metadata": {},
   "outputs": [],
   "source": [
    "y_hat_test = clf.predict(X_test)"
   ]
  },
  {
   "cell_type": "code",
   "execution_count": 17,
   "id": "8baccfdf",
   "metadata": {},
   "outputs": [
    {
     "name": "stdout",
     "output_type": "stream",
     "text": [
      "[[108  15]\n",
      " [  7 212]]\n"
     ]
    }
   ],
   "source": [
    "cm_test = metrics.confusion_matrix(y_test, y_hat_test)\n",
    "print(cm_test)"
   ]
  },
  {
   "cell_type": "code",
   "execution_count": 18,
   "id": "273cecc5",
   "metadata": {},
   "outputs": [
    {
     "data": {
      "image/png": "[encoded data removed]",
      "text/plain": [
       "<Figure size 432x288 with 2 Axes>"
      ]
     },
     "metadata": {
      "needs_background": "light"
     },
     "output_type": "display_data"
    }
   ],
   "source": [
    "metrics.ConfusionMatrixDisplay(cm_test,display_labels=class_names).plot();"
   ]
  },
  {
   "cell_type": "markdown",
   "id": "3030ab29",
   "metadata": {},
   "source": [
    "#### Train Results Evaluation:\n",
    "Recall = 80/81 = 0.9876\n",
    "Precision = 80/89 = 0.8989\n",
    "True Positive Rate = 0.9876\n",
    "False Positive Rate = 9/146 = 0.0616\n",
    "Accuracy = 217/227 = 0.956\n",
    "\n",
    "#### Test Results Evaluation:\n",
    "Recall = 108/115 = 0.939\n",
    "Precision = 108/123 = 0.878\n",
    "True Positive Rate = 0.939\n",
    "False Positive Rate = 15/227 = 0.066\n",
    "Accuracy = 320/342 = 0.936\n",
    "\n",
    "#### Comparation\n",
    "ניתן לראות שביצועי סדרת האימון בעלי רמת דיוק גבוהה יותר, כמצופה.\n",
    "אך הדיוק די קרוב\n",
    "דיוק סדרת האימון:0.956\n",
    "דיוק סדרת המבחן: 0.936"
   ]
  },
  {
   "cell_type": "code",
   "execution_count": null,
   "id": "8faa59f6",
   "metadata": {},
   "outputs": [],
   "source": []
  }
 ],
 "metadata": {
  "kernelspec": {
   "display_name": "Python 3 (ipykernel)",
   "language": "python",
   "name": "python3"
  },
  "language_info": {
   "codemirror_mode": {
    "name": "ipython",
    "version": 3
   },
   "file_extension": ".py",
   "mimetype": "text/x-python",
   "name": "python",
   "nbconvert_exporter": "python",
   "pygments_lexer": "ipython3",
   "version": "3.9.7"
  },
  "toc": {
   "base_numbering": 1,
   "nav_menu": {},
   "number_sections": true,
   "sideBar": true,
   "skip_h1_title": true,
   "title_cell": "Table of Contents",
   "title_sidebar": "Contents",
   "toc_cell": false,
   "toc_position": {},
   "toc_section_display": true,
   "toc_window_display": false
  }
 },
 "nbformat": 4,
 "nbformat_minor": 5
}
